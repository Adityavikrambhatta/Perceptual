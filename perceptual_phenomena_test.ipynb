{
 "cells": [
  {
   "cell_type": "markdown",
   "metadata": {},
   "source": [
    "# Background Information\n",
    "\n",
    "In a Stroop task, participants are presented with a list of words, with each word displayed in a color of ink. The participant’s task is to say out loud the color of the ink in which the word is printed. The task has two conditions: a congruent words condition, and an incongruent words condition. In the congruent words condition, the words being displayed are color words whose names match the colors in which they are printed: for example RED, BLUE. In the incongruent words condition, the words displayed are color words whose names do not match the colors in which they are printed: for example PURPLE, ORANGE. In each case, we measure the time it takes to name the ink colors in equally-sized lists. Each participant will go through and record a time from each condition.\n",
    "Questions For Investigation\n",
    "As a general note, be sure to keep a record of any resources that you use or refer to in the creation of your project. You will need to report your sources as part of the project submission.\n",
    "\n",
    "### 1. What is our independent variable? What is our dependent variable?\n",
    "\n",
    "The independent variable of the Stroop task is the congruency of the pair of words listed to the person taking the stroop test. The dependent variable is the time taken by the subject to name the colours with which the words are written i.e. incongruent data.\n",
    "\n",
    "### 2. What is an appropriate set of hypotheses for this task? What kind of statistical test do you expect to perform? Justify your choices.\n",
    "\n",
    "When attempting to test the relationship between the response times for the two conditions (congruent and incongruent), the following would be an appropriate set of of hypotheses:\n",
    "\n",
    "The population mean for congruent and incongruent data are different. The mean for the incongruent set is greater than that of the congruent set.\n",
    "\n",
    "An appropriate statistical test is required to determine the likelihood of each of these hypotheses is a dependent measure. \n",
    "T-test to determine different mean of population for both conditions are different and where standard deviation has to be calcualted. It makes sense to perform a dependent measures test as both conditions are performed by the entire population.\n",
    "\n",
    "The accuracy of the dependent measures t-test is based on the assumption that the differences between the results for the two conditions for each of subjects is normally distributed. \n",
    "\n",
    "Now it’s your chance to try out the Stroop task for yourself. Go to this link, which has a Java-based applet for performing the Stroop task. Record the times that you received on the task (you do not need to submit your times to the site.) Now, download this dataset which contains results from a number of participants in the task. Each row of the dataset contains the performance for one participant, with the first number their results on the congruent task and the second number their performance on the incongruent task."
   ]
  },
  {
   "cell_type": "code",
   "execution_count": 2,
   "metadata": {},
   "outputs": [],
   "source": [
    "import pandas as pd\n",
    "stroop_df = pd.read_csv(r'''stroopdata.csv''')"
   ]
  },
  {
   "cell_type": "markdown",
   "metadata": {},
   "source": [
    "### 3. Report some descriptive statistics regarding this dataset. Include at least one measure of central tendency and at least one measure of variability."
   ]
  },
  {
   "cell_type": "code",
   "execution_count": 3,
   "metadata": {
    "scrolled": true
   },
   "outputs": [
    {
     "name": "stdout",
     "output_type": "stream",
     "text": [
      "Number of results:\n",
      "Congruent      24\n",
      "Incongruent    24\n",
      "dtype: int64\n",
      "\n",
      "\n",
      "median:\n",
      "Congruent      14.3565\n",
      "Incongruent    21.0175\n",
      "dtype: float64\n",
      "\n",
      "\n",
      " mean:\n",
      "Congruent      14.051125\n",
      "Incongruent    22.015917\n",
      "dtype: float64\n",
      "\n",
      "\n",
      "standard deviation:\n",
      "Congruent      3.559358\n",
      "Incongruent    4.797057\n",
      "dtype: float64\n"
     ]
    }
   ],
   "source": [
    "print (\"Number of results:\")\n",
    "#finding number of elements in the list\n",
    "print (stroop_df.count())\n",
    "print (\"\\n\")\n",
    "print (\"median:\")\n",
    "#finding median\n",
    "print (stroop_df.median())\n",
    "print (\"\\n\")\n",
    "print (\" mean:\")\n",
    "#finding\n",
    "print (stroop_df.mean())\n",
    "print (\"\\n\")\n",
    "#finding standard deviation\n",
    "print (\"standard deviation:\")\n",
    "print( stroop_df.std())\n"
   ]
  },
  {
   "cell_type": "markdown",
   "metadata": {},
   "source": [
    "The fact that the standard deviation for the Incongruent Condition is larger than that of the Congruent Condition suggests that the Incongruent distribution is either wider or that there may be outliers present. A visual analysis of the dataset will provide a clearer understanding which of these may be the case."
   ]
  },
  {
   "cell_type": "markdown",
   "metadata": {},
   "source": [
    "### 4. Provide one or two visualizations that show the distribution of the sample data. Write one or two sentences noting what you observe about the plot or plots."
   ]
  },
  {
   "cell_type": "code",
   "execution_count": 5,
   "metadata": {},
   "outputs": [
    {
     "name": "stderr",
     "output_type": "stream",
     "text": [
      "c:\\users\\aditya vikram\\myenv\\lib\\site-packages\\matplotlib\\axes\\_axes.py:6462: UserWarning: The 'normed' kwarg is deprecated, and has been replaced by the 'density' kwarg.\n",
      "  warnings.warn(\"The 'normed' kwarg is deprecated, and has been \"\n"
     ]
    },
    {
     "data": {
      "image/png": "[encoded data removed]",
      "text/plain": [
       "<Figure size 432x288 with 1 Axes>"
      ]
     },
     "metadata": {},
     "output_type": "display_data"
    }
   ],
   "source": [
    "\n",
    "import numpy as np\n",
    "from scipy.stats import norm\n",
    "import matplotlib.pyplot as plt\n",
    "import pylab as pl\n",
    "import matplotlib.patches as mpatches\n",
    "\n",
    "\n",
    "\n",
    "con_mean = stroop_df['Congruent'].mean()\n",
    "incon_mean = stroop_df['Incongruent'].mean()\n",
    "f1=sorted(stroop_df['Congruent'])\n",
    "f2=sorted(stroop_df['Incongruent'])\n",
    "\n",
    "e1=np.std(f1)\n",
    "e2=np.std(f2)\n",
    "\n",
    "fit1=norm.pdf(f1,con_mean,e1)\n",
    "fit2=norm.pdf(f2,incon_mean,e2)\n",
    "\n",
    "#to form a plot of the arranged normal distribution data\n",
    "pl.plot(f1,fit1)\n",
    "pl.plot(f2,fit2)\n",
    "\n",
    "#to form a histogram of the arranged normal distribution data\n",
    "pl.hist(f1,normed=True,width=1)      \n",
    "pl.hist(f2,normed=True,width=1)      \n",
    "\n",
    "#to form a bar of the arranged normal distribution data\n",
    "pl.bar(con_mean,0.5,width=0.2,color='black')#use this to draw bar of your data\n",
    "pl.bar(incon_mean,0.5,width=0.2,color='cyan')#use this to draw bar of your data\n",
    "\n",
    "pl.xlabel('Stroop Response Time')\n",
    "pl.ylabel('The Probablity')\n",
    "\n",
    "pl.title('Distribution of Congruent and Incongruent Time Response')\n",
    "\n",
    "red_patch = mpatches.Patch(color='red', label='Incongruent Time')\n",
    "green_patch=mpatches.Patch(color='green',label='Congruent Time')\n",
    "black_patch=mpatches.Patch(color='black',label='Congruent Mean')\n",
    "cyan_patch=mpatches.Patch(color='cyan',label='Incongruent Mean')\n",
    "blue_patch=mpatches.Patch(color='blue',label='Congruent Curve')\n",
    "orange_patch=mpatches.Patch(color='orange',label='Incongruent Curve')\n",
    "\n",
    "plt.legend(handles=[red_patch,green_patch,black_patch,cyan_patch,blue_patch,orange_patch])\n",
    "\n",
    "pl.show()    \n",
    "\n"
   ]
  },
  {
   "cell_type": "markdown",
   "metadata": {},
   "source": [
    "The distribution plot above shows the Incongruent Condition exhibit higher response times than those for Congruent Condition. However both distributions do overlap which means that for both distributions there is a range where the Kernel Density Estimates overlap.\n",
    "\n",
    "The Kernel Density Estimate for the Incongruent Condition has a second peak suggesting outliers but the possible values above 30 seconds(with peak around 25) are not that far off from peak and hence will be ignored."
   ]
  },
  {
   "cell_type": "code",
   "execution_count": null,
   "metadata": {},
   "outputs": [],
   "source": [
    "Visualisations"
   ]
  },
  {
   "cell_type": "code",
   "execution_count": 6,
   "metadata": {},
   "outputs": [
    {
     "name": "stdout",
     "output_type": "stream",
     "text": [
      "14.3565 21.0175\n"
     ]
    },
    {
     "name": "stderr",
     "output_type": "stream",
     "text": [
      "c:\\users\\aditya vikram\\myenv\\lib\\site-packages\\matplotlib\\axes\\_axes.py:6462: UserWarning: The 'normed' kwarg is deprecated, and has been replaced by the 'density' kwarg.\n",
      "  warnings.warn(\"The 'normed' kwarg is deprecated, and has been \"\n"
     ]
    },
    {
     "data": {
      "image/png": "[encoded data removed]",
      "text/plain": [
       "<Figure size 432x288 with 1 Axes>"
      ]
     },
     "metadata": {},
     "output_type": "display_data"
    }
   ],
   "source": [
    "f1=sorted(stroop_df['Congruent'])\n",
    "f2=sorted(stroop_df['Incongruent'])\n",
    "\n",
    "outliers= stroop_df['Incongruent'] >0 \n",
    "stroop_df1= stroop_df[outliers== False]           #Removing outliers as they don't affect the result too much\n",
    "\n",
    "m1,m2=stroop_df.median()\n",
    "g1,g2=stroop_df.mode()\n",
    "\n",
    "e1=np.std(f1)\n",
    "e2=np.std(f2)\n",
    "\n",
    "print(m1 ,m2)\n",
    "fit1=norm.pdf(f1,con_mean,e1)\n",
    "fit2=norm.pdf(f2,incon_mean,e2)\n",
    "\n",
    "#to form a plot of the arranged normal distribution data\n",
    "pl.plot(f1,fit1,'-o')\n",
    "pl.plot(f2,fit2,'-.')\n",
    "\n",
    "#to form a histogram of the arranged normal distribution data\n",
    "pl.hist(f1,normed=True,width=1)      \n",
    "pl.hist(f2,normed=True,width=1)      \n",
    "\n",
    "#to form a bar of the arranged normal distribution data\n",
    "pl.bar(con_mean,0.5,width=0.2,color='black')#use this to draw bar of your data\n",
    "pl.bar(incon_mean,0.5,width=0.2,color='cyan')#use this to draw bar of your data\n",
    "pl.bar(m1,0.5,width=0.2,color='black')#use this to draw bar of your data\n",
    "pl.bar(m2,0.5,width=0.2,color='cyan')#use this to draw bar of your data\n",
    "\n",
    "pl.xlabel('Stroop Response Time')\n",
    "pl.ylabel('The Probablity')\n",
    "plt.text(11,0.4,str(round(con_mean,2)))\n",
    "plt.text(18.5,0.4,str(round(incon_mean,2)))\n",
    "plt.text(15,0.4,str(round(m1,2)))\n",
    "plt.text(22,0.4,str(round(m2,2)))\n",
    "\n",
    "pl.title('Distribution of Congruent and Incongruent Time Response')\n",
    "\n",
    "green_patch=mpatches.Patch(color='green',label='Congruent Time')\n",
    "red_patch = mpatches.Patch(color='red', label='Incongruent Time')\n",
    "black_patch=mpatches.Patch(color='black',label='Congruent Mean')\n",
    "cyan_patch=mpatches.Patch(color='cyan',label='Incongruent Mean')\n",
    "blue_patch=mpatches.Patch(color='blue',label='Congruent Curve')\n",
    "orange_patch=mpatches.Patch(color='orange',label='Incongruent Curve')\n",
    "\n",
    "plt.legend(handles=[red_patch,green_patch,black_patch,cyan_patch,blue_patch,orange_patch])\n",
    "\n",
    "pl.show()    \n",
    "\n",
    "\n"
   ]
  },
  {
   "cell_type": "markdown",
   "metadata": {},
   "source": [
    "The distrubution of congruent and incongruent time response has its mean value as 14.05 and 22.02,its median value as 14.36 and 21.02 repectively.By removing the paired results for Congruency and the outliers for Incongruency the output produced is narrower and slightly closer distributions but overall there is no difference and hence removal of outliers did not affect the distribution."
   ]
  },
  {
   "cell_type": "markdown",
   "metadata": {},
   "source": [
    "### 5. Now, perform the statistical test and report your results. What is your confidence level and your critical statistic value? Do you reject the null hypothesis or fail to reject it? Come to a conclusion in terms of the experiment task. Did the results match up with your expectations?"
   ]
  },
  {
   "cell_type": "code",
   "execution_count": 10,
   "metadata": {},
   "outputs": [],
   "source": [
    "\n",
    "import math\n",
    "from scipy.stats import t\n",
    "\n",
    "def ttest(dat1, dat2, alpha, critical_t):\n",
    "    mean1 = dat1.mean()\n",
    "    mean2 = dat2.mean()\n",
    "    \n",
    "    #dom = difference of means\n",
    "\n",
    "    dom=mean1 - mean2    \n",
    "    \n",
    "    # dtr = difference between results\n",
    "    \n",
    "    dtr =dat1 - dat2     \n",
    "\n",
    "    sample_size = len(dat1)\n",
    "    df = sample_size - 1\n",
    "\n",
    "    #sdd- std of differences\n",
    "    \n",
    "    sdd= dtr.std()  \n",
    "\n",
    "    stat = dom/ (sdd/math.sqrt(sample_size))\n",
    "    p_value = t.pdf(stat, df)\n",
    "    \n",
    "    reject_the_null = p_value < alpha\n",
    "\n",
    "    \n",
    "    cohens_d =dom/sdd\n",
    "    \n",
    "    print (\"We accept the alternative hypothesis=\" + str(reject_the_null))\n",
    "    print (\"The p value for a t statistic of \" + str(abs(stat)) + \" with a df of \" + str(df) + \": \" + str(p_value))\n",
    "    print (\"Cohen's D test is: \" + str(cohens_d))\n",
    "    \n",
    "    ci_lower_boundary = dom- t_critical * (sdd/math.sqrt(sample_size))\n",
    "    ci_upper_boundary = dom+ t_critical * (sdd/math.sqrt(sample_size))\n",
    "                                                            \n",
    "    print (\"The confidence interval for a t-critical value of \" + str(t_critical) + \" is: \" +\n",
    "            \"(\" + str(ci_lower_boundary) + \", \" + str(ci_upper_boundary) + \")\")"
   ]
  },
  {
   "cell_type": "code",
   "execution_count": null,
   "metadata": {},
   "outputs": [],
   "source": [
    "Dependent Measure T-test"
   ]
  },
  {
   "cell_type": "code",
   "execution_count": 11,
   "metadata": {},
   "outputs": [
    {
     "name": "stdout",
     "output_type": "stream",
     "text": [
      "We accept the alternative hypothesis=True\n",
      "The p value for a t statistic of 8.020706944109957 with a df of 23: 4.393995815913909e-08\n",
      "Cohen's D test is: -1.6372199491222625\n",
      "The confidence interval for a t-critical value of 2.08 is: (-10.030291227005616, -5.899292106327718)\n"
     ]
    }
   ],
   "source": [
    "# T value lifted off the internet t tables\n",
    "t_critical = 2.080\n",
    "ttest(stroop_df['Congruent'], stroop_df['Incongruent'], 0.025, t_critical)"
   ]
  },
  {
   "cell_type": "markdown",
   "metadata": {},
   "source": [
    "\n",
    "The comparison between dependent and the independent variable affirms that the time taken by the incongruent data is more which matches my expectation.\n"
   ]
  },
  {
   "cell_type": "markdown",
   "metadata": {},
   "source": [
    "Main Sources: Github , Stackoverflow\n",
    "\n",
    "Other Sources:\n",
    "\n",
    "1) Pylab :https://scipy.github.io/old-wiki/pages/PyLab\n",
    "\n",
    "2) Student's t-test https://en.wikipedia.org/w/index.php?title=Student%27s_t-test&oldid=709322415\n",
    "\n",
    "3) SciPy : https://docs.scipy.org/doc/scipy/reference/index.html\n",
    "\n",
    "4) Distribution: http://www.statisticshowto.com/tables/t-distribution-table/#two\n",
    "\n",
    "5) Adding Bar Chart: https://stackoverflow.com/questions/40287847/python-matplotlib-bar-chart-adding-bar-\n",
    "\n",
    "6) Text inplot: https://matplotlib.org/users/text_intro.html\n"
   ]
  }
 ],
 "metadata": {
  "kernelspec": {
   "display_name": "Python 3",
   "language": "python",
   "name": "python3"
  },
  "language_info": {
   "codemirror_mode": {
    "name": "ipython",
    "version": 3
   },
   "file_extension": ".py",
   "mimetype": "text/x-python",
   "name": "python",
   "nbconvert_exporter": "python",
   "pygments_lexer": "ipython3",
   "version": "3.6.4"
  }
 },
 "nbformat": 4,
 "nbformat_minor": 2
}
